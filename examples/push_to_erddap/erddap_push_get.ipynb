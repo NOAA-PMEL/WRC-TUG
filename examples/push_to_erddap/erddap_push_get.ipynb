{
 "cells": [
  {
   "cell_type": "code",
   "execution_count": 2,
   "id": "5c316489-aaaf-42eb-b22d-97b06d8a0321",
   "metadata": {},
   "outputs": [],
   "source": [
    "import requests\n",
    "from requests import Request, Session\n",
    "import datetime\n",
    "import random\n",
    "from urllib.parse import quote"
   ]
  },
  {
   "cell_type": "code",
   "execution_count": 12,
   "id": "3213c516-19df-4358-9490-3953350e4a10",
   "metadata": {},
   "outputs": [
    {
     "name": "stdout",
     "output_type": "stream",
     "text": [
      "{'platform_id': 'spaceship003', 'time': '2024-01-19T18:04:48Z', 'latitude': -35.38535821811903, 'longitude': -31.58132837703775, 'depth': 1.4912258957459312, 'fake': 0.5255673430840986, 'project': 'Test with a Long Spacey Project Name', 'group': 'SDIG', 'author': 'schweitzer_s3cr3ti78'}\n"
     ]
    },
    {
     "name": "stderr",
     "output_type": "stream",
     "text": [
      "C:\\Users\\schweitzer\\AppData\\Local\\Temp\\1\\ipykernel_10452\\3995029460.py:3: DeprecationWarning: datetime.datetime.utcnow() is deprecated and scheduled for removal in a future version. Use timezone-aware objects to represent datetimes in UTC: datetime.datetime.now(datetime.UTC).\n",
      "  'time': datetime.datetime.utcnow().strftime('%Y-%m-%dT%H:%M:%SZ'),\n"
     ]
    }
   ],
   "source": [
    "data = {\n",
    "    'platform_id':quote('spaceship003'),\n",
    "    'time': datetime.datetime.utcnow().strftime('%Y-%m-%dT%H:%M:%SZ'),\n",
    "    'latitude': random.uniform(-90.,90.),\n",
    "    'longitude': random.uniform(-180., 180.),\n",
    "    'depth': random.uniform(0.0, 5.0),\n",
    "    'fake': random.uniform(-1.0, 1.0),\n",
    "    'project': \"Test with a Long Spacey Project Name\",\n",
    "    'group': quote(\"SDIG\"),\n",
    "    'author': quote(\"name_key\")\n",
    "}\n",
    "#url = 'https://sour.pmel.noaa.gov:8930/erddap/tabledap/realtime_platform'\n",
    "#url = 'https://datalocal.pmel.noaa.gov/erddap/tabledap/realtime_platform'\n",
    "url = 'https://sour.pmel.noaa.gov:8930/erddap/tabledap/push_test'\n",
    "print(data)"
   ]
  },
  {
   "cell_type": "code",
   "execution_count": 13,
   "id": "2552fc7b-d369-437c-a1c2-b2064a0f2616",
   "metadata": {},
   "outputs": [
    {
     "data": {
      "text/plain": [
       "'https://sour.pmel.noaa.gov:8930/erddap/tabledap/push_test.insert?platform_id=spaceship003&time=2024-01-19T18%3A04%3A48Z&latitude=-35.38535821811903&longitude=-31.58132837703775&depth=1.4912258957459312&fake=0.5255673430840986&project=Test%20with%20a%20Long%20Spacey%20Project%20Name&group=SDIG&author=schweitzer_s3cr3ti78'"
      ]
     },
     "execution_count": 13,
     "metadata": {},
     "output_type": "execute_result"
    }
   ],
   "source": [
    "query = ''\n",
    "for idx,key in enumerate(data):\n",
    "    if idx > 0:\n",
    "        query = query + '&'\n",
    "    if isinstance(data[key],str):\n",
    "        value = quote(data[key])\n",
    "    else:\n",
    "        value = str(data[key])\n",
    "    query = query + key + '=' + value\n",
    "get_url = url + '.insert?' + query\n",
    "get_url"
   ]
  },
  {
   "cell_type": "code",
   "execution_count": 16,
   "id": "432237ad-9ec0-41ff-8d76-c93bc3a5b270",
   "metadata": {},
   "outputs": [
    {
     "name": "stdout",
     "output_type": "stream",
     "text": [
      "https://sour.pmel.noaa.gov:8930/erddap/tabledap/push_test.insert?platform_id=spaceship003&time=2024-01-19T18%3A04%3A48Z&latitude=-35.38535821811903&longitude=-31.58132837703775&depth=1.4912258957459312&fake=0.5255673430840986&project=Test%20with%20a%20Long%20Spacey%20Project%20Name&group=SDIG&author=schweitzer_s3cr3ti78\n",
      "User-Agent: python-requests/2.31.0\n",
      "Accept-Encoding: gzip, deflate, br\n",
      "Accept: */*\n",
      "Connection: keep-alive\n",
      "None\n",
      "Data successfully logged.\n"
     ]
    },
    {
     "name": "stderr",
     "output_type": "stream",
     "text": [
      "c:\\Users\\schweitzer\\AppData\\Local\\miniforge3\\envs\\dash\\Lib\\site-packages\\urllib3\\connectionpool.py:1099: InsecureRequestWarning: Unverified HTTPS request is being made to host 'sour.pmel.noaa.gov'. Adding certificate verification is strongly advised. See: https://urllib3.readthedocs.io/en/latest/advanced-usage.html#tls-warnings\n",
      "  warnings.warn(\n"
     ]
    }
   ],
   "source": [
    "# You don't need the verify for datalocal\n",
    "try:\n",
    "    r = requests.get(url=get_url, verify=False)\n",
    "    print(r.request.url)\n",
    "    print('\\r\\n'.join('{}: {}'.format(k, v) for k, v in r.request.headers.items()))\n",
    "    print(r.request.body)\n",
    "    if r.status_code == 200:\n",
    "        print('Data successfully logged.')\n",
    "    else:\n",
    "        print('Data logging failed:\\n', r.status_code, r.text)\n",
    "except Exception as e:\n",
    "    print (e)"
   ]
  }
 ],
 "metadata": {
  "kernelspec": {
   "display_name": "Python 3 (ipykernel)",
   "language": "python",
   "name": "python3"
  },
  "language_info": {
   "codemirror_mode": {
    "name": "ipython",
    "version": 3
   },
   "file_extension": ".py",
   "mimetype": "text/x-python",
   "name": "python",
   "nbconvert_exporter": "python",
   "pygments_lexer": "ipython3",
   "version": "3.12.1"
  }
 },
 "nbformat": 4,
 "nbformat_minor": 5
}
