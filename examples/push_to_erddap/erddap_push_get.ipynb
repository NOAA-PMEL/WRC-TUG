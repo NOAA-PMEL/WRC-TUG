{
 "cells": [
  {
   "cell_type": "code",
   "execution_count": 1,
   "id": "5c316489-aaaf-42eb-b22d-97b06d8a0321",
   "metadata": {},
   "outputs": [
    {
     "ename": "ModuleNotFoundError",
     "evalue": "No module named 'requests'",
     "output_type": "error",
     "traceback": [
      "\u001b[1;31m---------------------------------------------------------------------------\u001b[0m",
      "\u001b[1;31mModuleNotFoundError\u001b[0m                       Traceback (most recent call last)",
      "Cell \u001b[1;32mIn[1], line 1\u001b[0m\n\u001b[1;32m----> 1\u001b[0m \u001b[38;5;28;01mimport\u001b[39;00m \u001b[38;5;21;01mrequests\u001b[39;00m\n\u001b[0;32m      2\u001b[0m \u001b[38;5;28;01mfrom\u001b[39;00m \u001b[38;5;21;01mrequests\u001b[39;00m \u001b[38;5;28;01mimport\u001b[39;00m Request, Session\n\u001b[0;32m      3\u001b[0m \u001b[38;5;28;01mimport\u001b[39;00m \u001b[38;5;21;01mdatetime\u001b[39;00m\n",
      "\u001b[1;31mModuleNotFoundError\u001b[0m: No module named 'requests'"
     ]
    }
   ],
   "source": [
    "import requests\n",
    "from requests import Request, Session\n",
    "import datetime\n",
    "import random\n",
    "from urllib.parse import quote"
   ]
  },
  {
   "cell_type": "code",
   "execution_count": 2,
   "id": "3213c516-19df-4358-9490-3953350e4a10",
   "metadata": {},
   "outputs": [
    {
     "name": "stdout",
     "output_type": "stream",
     "text": [
      "{'platform_id': 'spaceship003', 'time': '2023-12-15T18:15:22Z', 'latitude': -63.625678812185576, 'longitude': -138.12593540079308, 'depth': 4.511757961637372, 'project': 'Test with a Long Spacey Project Name', 'group': 'SDIG', 'author': 'NAME_KEY'}\n"
     ]
    }
   ],
   "source": [
    "data = {\n",
    "    'platform_id':quote('spaceship003'),\n",
    "    'time': datetime.datetime.utcnow().strftime('%Y-%m-%dT%H:%M:%SZ'),\n",
    "    'latitude': random.uniform(-90.,90.),\n",
    "    'longitude': random.uniform(-180., 180.),\n",
    "    'depth': random.uniform(0.0, 5.0),\n",
    "    'fake': random.uniform(-1.0, 1.0),\n",
    "    'project': \"Test with a Long Spacey Project Name\",\n",
    "    'group': quote(\"SDIG\"),\n",
    "    'author': quote(\"NAME_KEY\")\n",
    "}\n",
    "#url = 'https://sour.pmel.noaa.gov:8930/erddap/tabledap/realtime_platform'\n",
    "#url = 'https://datalocal.pmel.noaa.gov/erddap/tabledap/realtime_platform'\n",
    "url = 'https://sour.pmel.noaa.gov:8930/erddap/tabledap/push_test'\n",
    "print(data)"
   ]
  },
  {
   "cell_type": "code",
   "execution_count": 3,
   "id": "2552fc7b-d369-437c-a1c2-b2064a0f2616",
   "metadata": {},
   "outputs": [
    {
     "data": {
      "text/plain": [
       "'https://datalocal.pmel.noaa.gov/erddap/tabledap/realtime_platform.insert?platform_id=spaceship003&time=2023-12-15T18%3A15%3A22Z&latitude=-63.625678812185576&longitude=-138.12593540079308&depth=4.511757961637372&project=Test%20with%20a%20Long%20Spacey%20Project%20Name&group=SDIG&author=NAME_KEY'"
      ]
     },
     "execution_count": 3,
     "metadata": {},
     "output_type": "execute_result"
    }
   ],
   "source": [
    "query = ''\n",
    "for idx,key in enumerate(data):\n",
    "    if idx > 0:\n",
    "        query = query + '&'\n",
    "    if isinstance(data[key],str):\n",
    "        value = quote(data[key])\n",
    "    else:\n",
    "        value = str(data[key])\n",
    "    query = query + key + '=' + value\n",
    "get_url = url + '.insert?' + query\n",
    "get_url"
   ]
  },
  {
   "cell_type": "code",
   "execution_count": 4,
   "id": "432237ad-9ec0-41ff-8d76-c93bc3a5b270",
   "metadata": {},
   "outputs": [
    {
     "name": "stdout",
     "output_type": "stream",
     "text": [
      "https://datalocal.pmel.noaa.gov/erddap/tabledap/realtime_platform.insert?platform_id=spaceship003&time=2023-12-15T18%3A15%3A22Z&latitude=-63.625678812185576&longitude=-138.12593540079308&depth=4.511757961637372&project=Test%20with%20a%20Long%20Spacey%20Project%20Name&group=SDIG&author=NAME_KEY\n",
      "User-Agent: python-requests/2.31.0\n",
      "Accept-Encoding: gzip, deflate, br\n",
      "Accept: */*\n",
      "Connection: keep-alive\n",
      "None\n",
      "Data successfully logged.\n"
     ]
    }
   ],
   "source": [
    "# You don't need the verify for datalocal\n",
    "try:\n",
    "    r = requests.get(url=get_url, verify=\"/home/users/rhs/cert_chain.crt\")\n",
    "    print(r.request.url)\n",
    "    print('\\r\\n'.join('{}: {}'.format(k, v) for k, v in r.request.headers.items()))\n",
    "    print(r.request.body)\n",
    "    if r.status_code == 200:\n",
    "        print('Data successfully logged.')\n",
    "    else:\n",
    "        print('Data logging failed:\\n', r.status_code, r.text)\n",
    "except Exception as e:\n",
    "    print (e)"
   ]
  }
 ],
 "metadata": {
  "kernelspec": {
   "display_name": "Python 3 (ipykernel)",
   "language": "python",
   "name": "python3"
  },
  "language_info": {
   "codemirror_mode": {
    "name": "ipython",
    "version": 3
   },
   "file_extension": ".py",
   "mimetype": "text/x-python",
   "name": "python",
   "nbconvert_exporter": "python",
   "pygments_lexer": "ipython3",
   "version": "3.8.10"
  }
 },
 "nbformat": 4,
 "nbformat_minor": 5
}
